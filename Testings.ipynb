{
 "cells": [
  {
   "cell_type": "markdown",
   "id": "generous-placement",
   "metadata": {
    "slideshow": {
     "slide_type": "slide"
    }
   },
   "source": [
    "# This is my title"
   ]
  },
  {
   "cell_type": "markdown",
   "id": "dangerous-bathroom",
   "metadata": {
    "slideshow": {
     "slide_type": "slide"
    }
   },
   "source": [
    "## This is a simple calculation Header"
   ]
  },
  {
   "cell_type": "code",
   "execution_count": 2,
   "id": "connected-purse",
   "metadata": {
    "slideshow": {
     "slide_type": "subslide"
    }
   },
   "outputs": [
    {
     "data": {
      "text/plain": [
       "30"
      ]
     },
     "execution_count": 2,
     "metadata": {},
     "output_type": "execute_result"
    }
   ],
   "source": [
    "# This is a simple calculation\n",
    "a=10\n",
    "b=20\n",
    "a+b"
   ]
  },
  {
   "cell_type": "markdown",
   "id": "emerging-burlington",
   "metadata": {
    "slideshow": {
     "slide_type": "slide"
    }
   },
   "source": [
    "## This is a simple input and print Header\n",
    "\n",
    "This is a simple text below the Header which we can use to explain some details regarding the programming code, complex calculations or even show charts to demonstrate the results."
   ]
  },
  {
   "cell_type": "code",
   "execution_count": 8,
   "id": "integral-genome",
   "metadata": {
    "slideshow": {
     "slide_type": "subslide"
    }
   },
   "outputs": [
    {
     "name": "stdout",
     "output_type": "stream",
     "text": [
      "What's your first name ? Max\n",
      "What's your last name ? Ribeiro\n",
      "Your full name is  Max Ribeiro\n"
     ]
    }
   ],
   "source": [
    "# This is a input and print testing\n",
    "firstName = input(\"What's your first name ? \")\n",
    "lastName = input(\"What's your last name ? \")\n",
    "print(\"Your full name is \", firstName, lastName)"
   ]
  }
 ],
 "metadata": {
  "kernelspec": {
   "display_name": "Python 3",
   "language": "python",
   "name": "python3"
  },
  "language_info": {
   "codemirror_mode": {
    "name": "ipython",
    "version": 3
   },
   "file_extension": ".py",
   "mimetype": "text/x-python",
   "name": "python",
   "nbconvert_exporter": "python",
   "pygments_lexer": "ipython3",
   "version": "3.9.1"
  },
  "toc-autonumbering": false,
  "toc-showcode": false,
  "toc-showmarkdowntxt": false
 },
 "nbformat": 4,
 "nbformat_minor": 5
}
